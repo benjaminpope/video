{
 "cells": [
  {
   "cell_type": "code",
   "execution_count": 1,
   "metadata": {},
   "outputs": [],
   "source": [
    "import numpy as np\n",
    "import matplotlib.pyplot as plt\n",
    "import glob, re\n",
    "\n",
    "from astropy.table import Table, join, Column\n",
    "\n",
    "from thejoker.data import RVData\n",
    "from thejoker.sampler import JokerParams, TheJoker\n",
    "from thejoker.plot import plot_rv_curves\n",
    "from thejoker import compute_likelihoods, likelihood\n",
    "\n",
    "import astropy.units as u\n",
    "import corner\n",
    "\n",
    "% matplotlib inline\n",
    "\n",
    "import matplotlib as mpl\n",
    "mpl.style.use('seaborn-colorblind')\n",
    "\n",
    "#To make sure we have always the same matplotlib settings\n",
    "#(the ones in comments are the ipython notebook settings)\n",
    "\n",
    "mpl.rcParams['figure.figsize']=(12.0,9.0)    #(6.0,4.0)\n",
    "mpl.rcParams['font.size']=20               #10 \n",
    "mpl.rcParams['savefig.dpi']= 200             #72 \n",
    "mpl.rcParams['axes.labelsize'] = 18\n",
    "mpl.rcParams['axes.labelsize'] = 18\n",
    "mpl.rcParams['xtick.labelsize'] = 14\n",
    "mpl.rcParams['ytick.labelsize'] = 14\n",
    "from matplotlib import rc\n",
    "\n",
    "colours = mpl.rcParams['axes.prop_cycle'].by_key()['color']\n"
   ]
  },
  {
   "cell_type": "code",
   "execution_count": 2,
   "metadata": {},
   "outputs": [
    {
     "name": "stdout",
     "output_type": "stream",
     "text": [
      "results_rvs.png     results_video.hdf5\n"
     ]
    }
   ],
   "source": [
    "ls ../results/"
   ]
  },
  {
   "cell_type": "code",
   "execution_count": 6,
   "metadata": {},
   "outputs": [],
   "source": [
    "fname = '../rvs.csv'\n",
    "data = Table.read(fname)"
   ]
  },
  {
   "cell_type": "code",
   "execution_count": 7,
   "metadata": {},
   "outputs": [
    {
     "data": {
      "text/html": [
       "<i>Table length=8</i>\n",
       "<table id=\"table112195368664\" class=\"table-striped table-bordered table-condensed\">\n",
       "<thead><tr><th>JD</th><th>RV_wobble</th><th>RV_err_wobble</th><th>RV_pipeline</th><th>RV_err_pipeline</th></tr></thead>\n",
       "<thead><tr><th>float64</th><th>float64</th><th>float64</th><th>float64</th><th>float64</th></tr></thead>\n",
       "<tr><td>2458478.77385868</td><td>-4.0204</td><td>3.729</td><td>-408.3473</td><td>38.1361</td></tr>\n",
       "<tr><td>2458475.75494602</td><td>34.4922</td><td>45.4468</td><td>1992.6716</td><td>109.093</td></tr>\n",
       "<tr><td>2458483.76824614</td><td>-7.5795</td><td>8.5466</td><td>262.8029</td><td>32.3034</td></tr>\n",
       "<tr><td>2458484.7715361</td><td>-30.6771</td><td>21.6581</td><td>-267.9518</td><td>68.1124</td></tr>\n",
       "<tr><td>2458479.77133004</td><td>-2.3242</td><td>3.0473</td><td>-264.5127</td><td>32.6418</td></tr>\n",
       "<tr><td>2458481.67974915</td><td>8.2887</td><td>3.9239</td><td>-771.854</td><td>45.0999</td></tr>\n",
       "<tr><td>2458482.75983937</td><td>0.6121</td><td>7.5307</td><td>700.9235</td><td>49.5272</td></tr>\n",
       "<tr><td>2458473.75213848</td><td>1.2081</td><td>12.5935</td><td>-1243.7322</td><td>29.1994</td></tr>\n",
       "</table>"
      ],
      "text/plain": [
       "<Table length=8>\n",
       "       JD        RV_wobble RV_err_wobble RV_pipeline RV_err_pipeline\n",
       "    float64       float64     float64      float64       float64    \n",
       "---------------- --------- ------------- ----------- ---------------\n",
       "2458478.77385868   -4.0204         3.729   -408.3473         38.1361\n",
       "2458475.75494602   34.4922       45.4468   1992.6716         109.093\n",
       "2458483.76824614   -7.5795        8.5466    262.8029         32.3034\n",
       " 2458484.7715361  -30.6771       21.6581   -267.9518         68.1124\n",
       "2458479.77133004   -2.3242        3.0473   -264.5127         32.6418\n",
       "2458481.67974915    8.2887        3.9239    -771.854         45.0999\n",
       "2458482.75983937    0.6121        7.5307    700.9235         49.5272\n",
       "2458473.75213848    1.2081       12.5935  -1243.7322         29.1994"
      ]
     },
     "execution_count": 7,
     "metadata": {},
     "output_type": "execute_result"
    }
   ],
   "source": [
    "data"
   ]
  },
  {
   "cell_type": "code",
   "execution_count": 4,
   "metadata": {},
   "outputs": [],
   "source": [
    "t = data['JD']\n",
    "rv = data['RV_wobble'] * u.m/u.s\n",
    "err =  data['RV_err_wobble'] * u.m/u.s\n",
    "data = RVData(t=t, rv=rv, stddev=err)\n"
   ]
  },
  {
   "cell_type": "code",
   "execution_count": 5,
   "metadata": {},
   "outputs": [
    {
     "data": {
      "text/plain": [
       "<matplotlib.lines.Line2D at 0x1a22ccd7f0>"
      ]
     },
     "execution_count": 5,
     "metadata": {},
     "output_type": "execute_result"
    },
    {
     "data": {
      "image/png": "[encoded data removed]",
      "text/plain": [
       "<Figure size 432x288 with 1 Axes>"
      ]
     },
     "metadata": {
      "needs_background": "light"
     },
     "output_type": "display_data"
    }
   ],
   "source": [
    "ax = data.plot() # doctest: +SKIP\n",
    "ax.set_xlabel(\"Time [day]\") # doctest: +SKIP\n",
    "ax.set_ylabel(\"RV [m/s]\") # doctest: +SKIP\n",
    "plt.axhline(0)"
   ]
  },
  {
   "cell_type": "code",
   "execution_count": 6,
   "metadata": {},
   "outputs": [
    {
     "data": {
      "text/latex": [
       "$8.03865 \\; \\mathrm{\\frac{m}{s}}$"
      ],
      "text/plain": [
       "<Quantity 8.03865 m / s>"
      ]
     },
     "execution_count": 6,
     "metadata": {},
     "output_type": "execute_result"
    }
   ],
   "source": [
    "np.median(err)"
   ]
  },
  {
   "cell_type": "code",
   "execution_count": 7,
   "metadata": {},
   "outputs": [],
   "source": [
    "params = JokerParams(P_min=1*u.day, P_max=20*u.day)"
   ]
  },
  {
   "cell_type": "code",
   "execution_count": 8,
   "metadata": {},
   "outputs": [],
   "source": [
    "joker = TheJoker(params)"
   ]
  },
  {
   "cell_type": "code",
   "execution_count": 9,
   "metadata": {},
   "outputs": [
    {
     "name": "stdout",
     "output_type": "stream",
     "text": [
      "INFO: 6334 good samples after rejection sampling [thejoker.sampler.sampler]\n",
      "CPU times: user 6.64 s, sys: 165 ms, total: 6.81 s\n",
      "Wall time: 5.92 s\n"
     ]
    }
   ],
   "source": [
    "%%time\n",
    "samples = joker.rejection_sample(data, n_prior_samples=65536)"
   ]
  },
  {
   "cell_type": "code",
   "execution_count": 16,
   "metadata": {},
   "outputs": [
    {
     "name": "stdout",
     "output_type": "stream",
     "text": [
      "CPU times: user 16.6 s, sys: 358 ms, total: 17 s\n",
      "Wall time: 16.4 s\n"
     ]
    },
    {
     "data": {
      "image/png": "[encoded data removed]",
      "text/plain": [
       "<Figure size 432x288 with 1 Axes>"
      ]
     },
     "metadata": {
      "needs_background": "light"
     },
     "output_type": "display_data"
    }
   ],
   "source": [
    "%%time\n",
    "t_grid = np.linspace(t.min()-0.5, t.max()+0.5, 1024)\n",
    "\n",
    "ax = data.plot() # doctest: +SKIP\n",
    "\n",
    "plot_rv_curves(samples[::10], t_grid, rv_unit=u.m/u.s, data=data, ax=ax,\n",
    "               plot_kwargs=dict(color='#888888'));\n",
    "plt.title('GJ 1151 RV Samples',y=1.01)\n",
    "ax.set_xlabel(\"Time [day]\") # doctest: +SKIP\n",
    "ax.set_ylabel(\"RV [km/s]\") # doctest: +SKIP\n",
    "ax.set_xlim(t.min()-0.5,t.max()+0.5)\n",
    "ax.set_ylim((rv-err).min().value-2.,(rv+err).max().value+2.)\n",
    "\n",
    "# plt.savefig('gj1151b_samples.png',bbox_inches='tight')\n",
    "# plt.savefig('gj1151b_samples.eps',bbox_inches='tight')\n",
    "plt.savefig('gj1151b_samples.pdf',bbox_inches='tight')\n"
   ]
  },
  {
   "cell_type": "code",
   "execution_count": null,
   "metadata": {},
   "outputs": [],
   "source": [
    "test = samples.copy()"
   ]
  },
  {
   "cell_type": "code",
   "execution_count": null,
   "metadata": {},
   "outputs": [],
   "source": [
    "plt.xlim(0,40)\n",
    "plt.axvline(test['K'].value.mean(),color=colours[2],linewidth=5,label=r'Mean and Sigma')\n",
    "plt.axvspan(test['K'].value.mean()-test['K'].value.std(),test['K'].value.mean()+test['K'].value.std(),color=colours[2],alpha=0.5)\n",
    "h = plt.hist(test['K'].value,bins=100,label='PDF',normed=True)\n",
    "\n",
    "plt.legend()\n",
    "plt.xlabel(r'Semi-amplitude $K$ (m/s)')\n",
    "plt.ylabel('PDF')\n",
    "plt.title('Constraints on GJ 1151 b K',y=1.01)\n",
    "plt.savefig('gj1151b_posterior.png',bbox_inches='tight')"
   ]
  },
  {
   "cell_type": "markdown",
   "metadata": {},
   "source": [
    "### Now let's calculate the planet's mass"
   ]
  },
  {
   "cell_type": "code",
   "execution_count": null,
   "metadata": {},
   "outputs": [],
   "source": [
    "Ps = samples['P'].to(u.d).value\n",
    "\n",
    "eccs = samples['e'].value\n",
    "\n",
    "Ks = samples['K'].to(u.m/u.s).value\n",
    "\n",
    "nsim = np.size(Ps)\n",
    "# masses for a generic late-M from https://sites.uni.edu/morgans/astro/course/Notes/section2/spectralmasses.html\n",
    "Mstar = 0.34 # old\n",
    "Mstar = 0.167 # https://ui.adsabs.harvard.edu/#abs/2016yCat..18210093N/abstract\n",
    "dMstar = 0.025\n",
    "Mstars = np.random.rand(nsim)*dMstar + Mstar-dMstar/2. \n"
   ]
  },
  {
   "cell_type": "code",
   "execution_count": null,
   "metadata": {},
   "outputs": [],
   "source": [
    "print(Mstar-dMstar/2.,Mstar+dMstar/2.)"
   ]
  },
  {
   "cell_type": "code",
   "execution_count": null,
   "metadata": {},
   "outputs": [],
   "source": [
    "Msini = 4.919e-3 * (Ps**(1./3.)) * np.sqrt(1.-eccs**2.) * Ks * Mstars**(2./3.) * 317.8  # * 317.8 Jupiter over Earth"
   ]
  },
  {
   "cell_type": "code",
   "execution_count": null,
   "metadata": {},
   "outputs": [],
   "source": [
    "print('Msini: %.2f +- %.2f' % (np.mean(Msini), np.std(Msini)),'M_Earth')"
   ]
  },
  {
   "cell_type": "code",
   "execution_count": null,
   "metadata": {},
   "outputs": [],
   "source": [
    "print(np.percentile(Msini,99))"
   ]
  },
  {
   "cell_type": "code",
   "execution_count": null,
   "metadata": {},
   "outputs": [],
   "source": [
    "plt.xlim(0,40.)\n",
    "plt.axvline(Msini.mean(),color=colours[2],linewidth=5,label=r'Mean and Sigma')\n",
    "plt.axvspan(Msini.mean()-Msini.std(),Msini.mean()+Msini.std(),color=colours[2],alpha=0.5)\n",
    "h = plt.hist(Msini,bins=100,label='PDF',normed=True)\n",
    "\n",
    "plt.legend()\n",
    "plt.xlabel(r'$M\\, \\sin{i}$ ($M_E$)')\n",
    "plt.ylabel('PDF')\n",
    "plt.title('Constraints on GJ 1151 b Mass',y=1.01)\n",
    "plt.savefig('gj1151b_mass.png',bbox_inches='tight')\n",
    "plt.savefig('gj1151b_mass.pdf',bbox_inches='tight')"
   ]
  },
  {
   "cell_type": "code",
   "execution_count": null,
   "metadata": {},
   "outputs": [],
   "source": [
    "dummy = np.array([samples['P'].value,samples['K'].value]).T\n",
    "corner.corner(dummy,labels=['P (d)','K (m/s)'],quantiles=[0.16, 0.5, 0.84],\n",
    "             show_titles=True, title_kwargs={\"fontsize\": 12},bins=50,range=((0,15),(0,25)));\n",
    "plt.savefig('cornerplot_k.png',bbox_inches='tight')"
   ]
  },
  {
   "cell_type": "code",
   "execution_count": null,
   "metadata": {},
   "outputs": [],
   "source": []
  },
  {
   "cell_type": "code",
   "execution_count": null,
   "metadata": {},
   "outputs": [],
   "source": []
  }
 ],
 "metadata": {
  "kernelspec": {
   "display_name": "Python 3",
   "language": "python",
   "name": "python3"
  },
  "language_info": {
   "codemirror_mode": {
    "name": "ipython",
    "version": 3
   },
   "file_extension": ".py",
   "mimetype": "text/x-python",
   "name": "python",
   "nbconvert_exporter": "python",
   "pygments_lexer": "ipython3",
   "version": "3.7.0"
  }
 },
 "nbformat": 4,
 "nbformat_minor": 2
}
